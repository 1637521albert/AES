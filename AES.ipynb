{
 "cells": [
  {
   "cell_type": "code",
   "execution_count": 126,
   "metadata": {},
   "outputs": [
    {
     "name": "stdout",
     "output_type": "stream",
     "text": [
      "16\n"
     ]
    }
   ],
   "source": [
    "import numpy as np\n",
    "k = \"administraciones\"\n",
    "\n",
    "m = \"infraestructuras\"\n",
    "print(len(m))"
   ]
  },
  {
   "cell_type": "code",
   "execution_count": 127,
   "metadata": {},
   "outputs": [
    {
     "name": "stdout",
     "output_type": "stream",
     "text": [
      "[[ 97 100 109 105]\n",
      " [110 105 115 116]\n",
      " [114  97  99 105]\n",
      " [111 110 101 115]]\n",
      "[[105 110 102 114]\n",
      " [ 97 101 115 116]\n",
      " [114 117  99 116]\n",
      " [117 114  97 115]]\n"
     ]
    }
   ],
   "source": [
    "def int_miss(m):\n",
    "    assert len(m) == 16, \"El missatge ha de tenir 16 caràcters.\"\n",
    "    m_int = np.array([ord(l) for l in m]).reshape(4,4)\n",
    "    return m_int\n",
    "\n",
    "k_int = int_miss(k)\n",
    "m_int = int_miss(m)\n",
    "\n",
    "print(k_int)\n",
    "print(m_int)"
   ]
  },
  {
   "cell_type": "code",
   "execution_count": 128,
   "metadata": {},
   "outputs": [],
   "source": [
    "# Funcions auxiliars\n",
    "\n",
    "def tohex(a):\n",
    "    return format(a, \"02x\")"
   ]
  },
  {
   "cell_type": "code",
   "execution_count": 129,
   "metadata": {},
   "outputs": [],
   "source": [
    "# Constants\n",
    "\n",
    "global sbox\n",
    "global mixcolmat\n",
    "global pol\n",
    "global rcon\n",
    "\n",
    "pol = int(\"100011011\", 2)\n",
    "\n",
    "sbox = np.array([\n",
    "        0x63, 0x7c, 0x77, 0x7b, 0xf2, 0x6b, 0x6f, 0xc5, 0x30, 0x01, 0x67, 0x2b, 0xfe, 0xd7, 0xab, 0x76,\n",
    "        0xca, 0x82, 0xc9, 0x7d, 0xfa, 0x59, 0x47, 0xf0, 0xad, 0xd4, 0xa2, 0xaf, 0x9c, 0xa4, 0x72, 0xc0,\n",
    "        0xb7, 0xfd, 0x93, 0x26, 0x36, 0x3f, 0xf7, 0xcc, 0x34, 0xa5, 0xe5, 0xf1, 0x71, 0xd8, 0x31, 0x15,\n",
    "        0x04, 0xc7, 0x23, 0xc3, 0x18, 0x96, 0x05, 0x9a, 0x07, 0x12, 0x80, 0xe2, 0xeb, 0x27, 0xb2, 0x75,\n",
    "        0x09, 0x83, 0x2c, 0x1a, 0x1b, 0x6e, 0x5a, 0xa0, 0x52, 0x3b, 0xd6, 0xb3, 0x29, 0xe3, 0x2f, 0x84,\n",
    "        0x53, 0xd1, 0x00, 0xed, 0x20, 0xfc, 0xb1, 0x5b, 0x6a, 0xcb, 0xbe, 0x39, 0x4a, 0x4c, 0x58, 0xcf,\n",
    "        0xd0, 0xef, 0xaa, 0xfb, 0x43, 0x4d, 0x33, 0x85, 0x45, 0xf9, 0x02, 0x7f, 0x50, 0x3c, 0x9f, 0xa8,\n",
    "        0x51, 0xa3, 0x40, 0x8f, 0x92, 0x9d, 0x38, 0xf5, 0xbc, 0xb6, 0xda, 0x21, 0x10, 0xff, 0xf3, 0xd2,\n",
    "        0xcd, 0x0c, 0x13, 0xec, 0x5f, 0x97, 0x44, 0x17, 0xc4, 0xa7, 0x7e, 0x3d, 0x64, 0x5d, 0x19, 0x73,\n",
    "        0x60, 0x81, 0x4f, 0xdc, 0x22, 0x2a, 0x90, 0x88, 0x46, 0xee, 0xb8, 0x14, 0xde, 0x5e, 0x0b, 0xdb,\n",
    "        0xe0, 0x32, 0x3a, 0x0a, 0x49, 0x06, 0x24, 0x5c, 0xc2, 0xd3, 0xac, 0x62, 0x91, 0x95, 0xe4, 0x79,\n",
    "        0xe7, 0xc8, 0x37, 0x6d, 0x8d, 0xd5, 0x4e, 0xa9, 0x6c, 0x56, 0xf4, 0xea, 0x65, 0x7a, 0xae, 0x08,\n",
    "        0xba, 0x78, 0x25, 0x2e, 0x1c, 0xa6, 0xb4, 0xc6, 0xe8, 0xdd, 0x74, 0x1f, 0x4b, 0xbd, 0x8b, 0x8a,\n",
    "        0x70, 0x3e, 0xb5, 0x66, 0x48, 0x03, 0xf6, 0x0e, 0x61, 0x35, 0x57, 0xb9, 0x86, 0xc1, 0x1d, 0x9e,\n",
    "        0xe1, 0xf8, 0x98, 0x11, 0x69, 0xd9, 0x8e, 0x94, 0x9b, 0x1e, 0x87, 0xe9, 0xce, 0x55, 0x28, 0xdf,\n",
    "        0x8c, 0xa1, 0x89, 0x0d, 0xbf, 0xe6, 0x42, 0x68, 0x41, 0x99, 0x2d, 0x0f, 0xb0, 0x54, 0xbb, 0x16\n",
    "], dtype=np.uint8).reshape(16, 16)\n",
    "\n",
    "mixcolmat =np.array([\n",
    "    [0x02, 0x03, 0x01, 0x01],\n",
    "    [0x01, 0x02, 0x03, 0x01],\n",
    "    [0x01, 0x01, 0x02, 0x03],\n",
    "    [0x03, 0x01, 0x01, 0x02]\n",
    "], dtype=np.uint8)\n",
    "\n",
    "rcon = np.array([0x01, 0x02, 0x04, 0x08, 0x10, 0x20, 0x40, 0x80, 0x1b, 0x36], dtype=np.uint8)"
   ]
  },
  {
   "cell_type": "code",
   "execution_count": 131,
   "metadata": {},
   "outputs": [
    {
     "name": "stdout",
     "output_type": "stream",
     "text": [
      "[['19' 'a0' '9a' 'e9']\n",
      " ['3d' 'f4' 'c6' 'f8']\n",
      " ['e3' 'e2' '8d' '48']\n",
      " ['be' '2b' '2a' '08']]\n"
     ]
    }
   ],
   "source": [
    "import numpy as np\n",
    "m_int = np.array([[0x32, 0x88, 0x31, 0xe0],[0x43, 0x5a, 0x31, 0x37],[0xf6, 0x30, 0x98, 0x07],[0xa8, 0x8d, 0xa2, 0x34]])\n",
    "k_int = np.array([[0x2b, 0x28, 0xab, 0x09],[0x7e, 0xae, 0xf7, 0xcf],[0x15, 0xd2, 0x15, 0x4f],[0x16, 0xa6, 0x88, 0x3c]])\n",
    "\n",
    "def addroundkey(m, k):\n",
    "    res = np.bitwise_xor(m, k)\n",
    "    return res\n",
    "\n",
    "mk = addroundkey(m_int, k_int)\n",
    "print(np.vectorize(tohex)(mk))"
   ]
  },
  {
   "cell_type": "code",
   "execution_count": 132,
   "metadata": {},
   "outputs": [
    {
     "name": "stdout",
     "output_type": "stream",
     "text": [
      "[['d4' 'e0' 'b8' '1e']\n",
      " ['27' 'bf' 'b4' '41']\n",
      " ['11' '98' '5d' '52']\n",
      " ['ae' 'f1' 'e5' '30']]\n"
     ]
    }
   ],
   "source": [
    "def map_sbox(el):\n",
    "    d1 = int(el[0], 16)\n",
    "    d2 = int(el[1], 16)\n",
    "    return sbox[d1, d2]\n",
    "\n",
    "def bytesub(mk):\n",
    "    res = np.zeros((4, 4))\n",
    "    mk_hex = np.vectorize(tohex)(mk)\n",
    "    map = np.vectorize(map_sbox)(mk_hex)\n",
    "    return map\n",
    "\n",
    "bs = bytesub(mk)\n",
    "print(np.vectorize(tohex)(bs))"
   ]
  },
  {
   "cell_type": "code",
   "execution_count": 133,
   "metadata": {},
   "outputs": [
    {
     "name": "stdout",
     "output_type": "stream",
     "text": [
      "[['d4' 'e0' 'b8' '1e']\n",
      " ['bf' 'b4' '41' '27']\n",
      " ['5d' '52' '11' '98']\n",
      " ['30' 'ae' 'f1' 'e5']]\n"
     ]
    }
   ],
   "source": [
    "def shiftrows(bs):\n",
    "    res = np.zeros((4, 4))\n",
    "    for i in range(4):\n",
    "        res[i] = np.roll(bs[i], -i)\n",
    "    return res.astype(int)\n",
    "\n",
    "sr = shiftrows(bs)\n",
    "print(np.vectorize(tohex)(sr))"
   ]
  },
  {
   "cell_type": "code",
   "execution_count": 134,
   "metadata": {},
   "outputs": [
    {
     "name": "stdout",
     "output_type": "stream",
     "text": [
      "7\n",
      "00000111\n"
     ]
    }
   ],
   "source": [
    "def mult1(el):\n",
    "    return el\n",
    "\n",
    "print(mult1(7))\n",
    "print(format(mult1(7), \"08b\"))"
   ]
  },
  {
   "cell_type": "code",
   "execution_count": 135,
   "metadata": {},
   "outputs": [
    {
     "name": "stdout",
     "output_type": "stream",
     "text": [
      "14\n",
      "00001110\n"
     ]
    }
   ],
   "source": [
    "def mult2(el):\n",
    "    bin = format(el, \"08b\")\n",
    "    res = bin[1:] + \"0\"\n",
    "\n",
    "    if bin[0] == \"1\":\n",
    "        return (int(res, 2) ^ pol) % 256\n",
    "    \n",
    "    return int(res, 2)\n",
    "\n",
    "print(mult2(7))\n",
    "print(format(mult2(7), \"08b\"))"
   ]
  },
  {
   "cell_type": "code",
   "execution_count": 136,
   "metadata": {},
   "outputs": [
    {
     "name": "stdout",
     "output_type": "stream",
     "text": [
      "9\n",
      "00001001\n"
     ]
    }
   ],
   "source": [
    "def mult3(el):\n",
    "    m2 = mult2(el)\n",
    "    return m2 ^ el\n",
    "\n",
    "print(mult3(7))\n",
    "print(format(mult3(7), \"08b\"))"
   ]
  },
  {
   "cell_type": "code",
   "execution_count": 137,
   "metadata": {},
   "outputs": [],
   "source": [
    "def mixcolumns(sr):\n",
    "    res = np.zeros((4,4))\n",
    "    for i in range(4):\n",
    "        for j in range(4):\n",
    "            sum = 0\n",
    "            for k in range(4):\n",
    "                if mixcolmat[i][k] == 1:\n",
    "                    sum ^= mult1(sr[k][j])\n",
    "                elif mixcolmat[i][k] == 2:\n",
    "                    sum ^= mult2(sr[k][j])\n",
    "                elif mixcolmat[i][k] == 3:\n",
    "                    sum ^= mult3(sr[k][j])\n",
    "            res[i][j] = sum\n",
    "    return res.astype(int)"
   ]
  },
  {
   "cell_type": "code",
   "execution_count": 140,
   "metadata": {},
   "outputs": [],
   "source": [
    "def key_schedule(k, num_iteracions):\n",
    "    num_iteracions += 1\n",
    "    if k.shape != (4, 4):\n",
    "        raise ValueError(\"k ha de ser una matriu de 4x4!\")\n",
    "    w = np.zeros((num_iteracions, 4, 4), dtype=np.uint8)\n",
    "    w[0, :, :] = k\n",
    "    for n in range(1, num_iteracions):\n",
    "        temp = w[n-1, :, 3].copy()  # copy the last column from the previous round key\n",
    "        temp = np.roll(temp, -1)  # rotate the bytes\n",
    "        temp = bytesub(temp)  # substitute bytes\n",
    "        temp[0] ^= rcon[n-1]  # XOR the first byte with the rcon value\n",
    "        w[n, :, 0] = np.bitwise_xor(temp, w[n-1, :, 0])  # XOR with the corresponding column from the previous round key\n",
    "        for i in range(1, 4):\n",
    "            w[n, :, i] = np.bitwise_xor(w[n, :, i-1], w[n-1, :, i])\n",
    "    return w"
   ]
  },
  {
   "cell_type": "code",
   "execution_count": 141,
   "metadata": {},
   "outputs": [
    {
     "name": "stdout",
     "output_type": "stream",
     "text": [
      "[[['2b' '28' 'ab' '09']\n",
      "  ['7e' 'ae' 'f7' 'cf']\n",
      "  ['15' 'd2' '15' '4f']\n",
      "  ['16' 'a6' '88' '3c']]\n",
      "\n",
      " [['a0' '88' '23' '2a']\n",
      "  ['fa' '54' 'a3' '6c']\n",
      "  ['fe' '2c' '39' '76']\n",
      "  ['17' 'b1' '39' '05']]\n",
      "\n",
      " [['f2' '7a' '59' '73']\n",
      "  ['c2' '96' '35' '59']\n",
      "  ['95' 'b9' '80' 'f6']\n",
      "  ['f2' '43' '7a' '7f']]\n",
      "\n",
      " [['3d' '47' '1e' '6d']\n",
      "  ['80' '16' '23' '7a']\n",
      "  ['47' 'fe' '7e' '88']\n",
      "  ['7d' '3e' '44' '3b']]\n",
      "\n",
      " [['ef' 'a8' 'b6' 'db']\n",
      "  ['44' '52' '71' '0b']\n",
      "  ['a5' '5b' '25' 'ad']\n",
      "  ['41' '7f' '3b' '00']]\n",
      "\n",
      " [['d4' '7c' 'ca' '11']\n",
      "  ['d1' '83' 'f2' 'f9']\n",
      "  ['c6' '9d' 'b8' '15']\n",
      "  ['f8' '87' 'bc' 'bc']]\n",
      "\n",
      " [['6d' '11' 'db' 'ca']\n",
      "  ['88' '0b' 'f9' '00']\n",
      "  ['a3' '3e' '86' '93']\n",
      "  ['7a' 'fd' '41' 'fd']]\n",
      "\n",
      " [['4e' '5f' '84' '4e']\n",
      "  ['54' '5f' 'a6' 'a6']\n",
      "  ['f7' 'c9' '4f' 'dc']\n",
      "  ['0e' 'f3' 'b2' '4f']]\n",
      "\n",
      " [['ea' 'b5' '31' '7f']\n",
      "  ['d2' '8d' '2b' '8d']\n",
      "  ['73' 'ba' 'f5' '29']\n",
      "  ['21' 'd2' '60' '2f']]\n",
      "\n",
      " [['ac' '19' '28' '57']\n",
      "  ['77' 'fa' 'd1' '5c']\n",
      "  ['66' 'dc' '29' '00']\n",
      "  ['f3' '21' '41' '6e']]\n",
      "\n",
      " [['d0' 'c9' 'e1' 'b6']\n",
      "  ['14' 'ee' '3f' '63']\n",
      "  ['f9' '25' '0c' '0c']\n",
      "  ['a8' '89' 'c8' 'a6']]]\n"
     ]
    }
   ],
   "source": [
    "print(np.vectorize(tohex)(key_schedule(k_int,10)))"
   ]
  },
  {
   "cell_type": "code",
   "execution_count": 142,
   "metadata": {},
   "outputs": [
    {
     "name": "stdout",
     "output_type": "stream",
     "text": [
      "[['39' '02' 'dc' '19']\n",
      " ['25' 'dc' '11' '6a']\n",
      " ['84' '09' '85' '0b']\n",
      " ['1d' 'fb' '97' '32']]\n"
     ]
    }
   ],
   "source": [
    "def aes(m, k):\n",
    "    ks = key_schedule(k, 10)\n",
    "    for i in range(9):\n",
    "        k = ks[i, :, :]\n",
    "        #print(np.vectorize(tohex)(k))\n",
    "        mk = addroundkey(m, k)\n",
    "        #print(np.vectorize(tohex)(mk))\n",
    "        bs = bytesub(mk)\n",
    "        #print(np.vectorize(tohex)(bs))\n",
    "        sr = shiftrows(bs)\n",
    "        #print(np.vectorize(tohex)(sr))\n",
    "        m = mixcolumns(sr)\n",
    "        #print(np.vectorize(tohex)(m))\n",
    "\n",
    "    k = ks[i + 1, :, :]\n",
    "    mk = addroundkey(m, k)\n",
    "    bs = bytesub(mk)\n",
    "    sr = shiftrows(bs)\n",
    "\n",
    "    k = ks[i + 2, :, :]\n",
    "    res = addroundkey(sr, k)\n",
    "\n",
    "    return res\n",
    "\n",
    "print(np.vectorize(tohex)(aes(m_int, k_int)))"
   ]
  }
 ],
 "metadata": {
  "kernelspec": {
   "display_name": "base",
   "language": "python",
   "name": "python3"
  },
  "language_info": {
   "codemirror_mode": {
    "name": "ipython",
    "version": 3
   },
   "file_extension": ".py",
   "mimetype": "text/x-python",
   "name": "python",
   "nbconvert_exporter": "python",
   "pygments_lexer": "ipython3",
   "version": "3.8.15"
  },
  "vscode": {
   "interpreter": {
    "hash": "40d3a090f54c6569ab1632332b64b2c03c39dcf918b08424e98f38b5ae0af88f"
   }
  }
 },
 "nbformat": 4,
 "nbformat_minor": 2
}
