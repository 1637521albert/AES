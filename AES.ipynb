{
  "cells": [
    {
      "cell_type": "markdown",
      "metadata": {},
      "source": [
        "## IMPLEMENTACIÓ DE L'ALGORISME AES\n",
        "\n",
        "Albert Garcia Uría 1637521\n",
        "Mario Amador Hurtado 1637543\n",
        "\n",
        "3r Enginyeria de Dades\n",
        "\n",
        "Criptografia i Seguretat"
      ]
    },
    {
      "cell_type": "code",
      "execution_count": 81,
      "metadata": {
        "id": "W4Ueih0_X9dU"
      },
      "outputs": [],
      "source": [
        "# Funcións auxiliars\n",
        "def tohex(a):\n",
        "    return format(a, \"02x\") # 2 dígits a hexadecimal\n",
        "\n",
        "def int_miss(m):\n",
        "    assert len(m) == 16, \"El missatge ha de tenir 16 caràcters.\" # Requisit 16 caràcters = 4x4\n",
        "    m_int = np.array([ord(l) for l in m],dtype = np.uint8).reshape(4,4) # Convertir a enter i fer reshape\n",
        "    return m_int\n",
        "\n",
        "def int2miss(array):\n",
        "    return \"\".join([chr(e) for e in array.flatten()]) # Convertir a string"
      ]
    },
    {
      "cell_type": "code",
      "execution_count": 82,
      "metadata": {
        "colab": {
          "base_uri": "https://localhost:8080/"
        },
        "id": "2krg04XuX9dV",
        "outputId": "9b592916-ef6a-4d63-a4ff-e031f4c24a53"
      },
      "outputs": [
        {
          "name": "stdout",
          "output_type": "stream",
          "text": [
            "MISSATGE: Ennio Morricone  \n",
            "\n",
            "MATRIU DEL MISSATGE:\n",
            " [['45' '6e' '6e' '69']\n",
            " ['6f' '20' '4d' '6f']\n",
            " ['72' '72' '69' '63']\n",
            " ['6f' '6e' '65' '20']] \n",
            "\n",
            "MATRIU DEL LA CLAU:\n",
            " [['00' '11' '22' '33']\n",
            " ['44' '55' '66' '77']\n",
            " ['88' '99' 'aa' 'bb']\n",
            " ['cc' 'dd' 'ee' 'ff']]\n"
          ]
        }
      ],
      "source": [
        "import numpy as np\n",
        "\n",
        "m = \"Ennio Morricone \"\n",
        "m_int = int_miss(m)\n",
        "k_int = np.array([[0x00, 0x11, 0x22, 0x33], [0x44, 0x55, 0x66, 0x77], [0x88, 0x99, 0xaa, 0xbb], [0xcc, 0xdd, 0xee, 0xff]], dtype=np.uint8)\n",
        "\n",
        "# MATRIUS EXEMPLE ANIMACIÓ\n",
        "# m_int = np.array([[0x32, 0x88, 0x31, 0xe0],[0x43, 0x5a, 0x31, 0x37],[0xf6, 0x30, 0x98, 0x07],[0xa8, 0x8d, 0xa2, 0x34]], dtype=np.uint8)\n",
        "# k_int = np.array([[0x2b, 0x28, 0xab, 0x09],[0x7e, 0xae, 0xf7, 0xcf],[0x15, 0xd2, 0x15, 0x4f],[0x16, 0xa6, 0x88, 0x3c]], dtype=np.uint8)\n",
        "\n",
        "print(\"MISSATGE:\", m, \"\\n\")\n",
        "print(\"MATRIU DEL MISSATGE:\\n\", np.vectorize(tohex)(m_int), \"\\n\")\n",
        "print(\"MATRIU DEL LA CLAU:\\n\", np.vectorize(tohex)(k_int))"
      ]
    },
    {
      "cell_type": "code",
      "execution_count": 83,
      "metadata": {
        "id": "weB6SmjKX9dV"
      },
      "outputs": [],
      "source": [
        "# Constants\n",
        "\n",
        "global sbox\n",
        "global mixcolmat\n",
        "global pol\n",
        "global rcon\n",
        "\n",
        "pol = int(\"100011011\", 2)\n",
        "\n",
        "sbox = np.array([\n",
        "        0x63, 0x7c, 0x77, 0x7b, 0xf2, 0x6b, 0x6f, 0xc5, 0x30, 0x01, 0x67, 0x2b, 0xfe, 0xd7, 0xab, 0x76,\n",
        "        0xca, 0x82, 0xc9, 0x7d, 0xfa, 0x59, 0x47, 0xf0, 0xad, 0xd4, 0xa2, 0xaf, 0x9c, 0xa4, 0x72, 0xc0,\n",
        "        0xb7, 0xfd, 0x93, 0x26, 0x36, 0x3f, 0xf7, 0xcc, 0x34, 0xa5, 0xe5, 0xf1, 0x71, 0xd8, 0x31, 0x15,\n",
        "        0x04, 0xc7, 0x23, 0xc3, 0x18, 0x96, 0x05, 0x9a, 0x07, 0x12, 0x80, 0xe2, 0xeb, 0x27, 0xb2, 0x75,\n",
        "        0x09, 0x83, 0x2c, 0x1a, 0x1b, 0x6e, 0x5a, 0xa0, 0x52, 0x3b, 0xd6, 0xb3, 0x29, 0xe3, 0x2f, 0x84,\n",
        "        0x53, 0xd1, 0x00, 0xed, 0x20, 0xfc, 0xb1, 0x5b, 0x6a, 0xcb, 0xbe, 0x39, 0x4a, 0x4c, 0x58, 0xcf,\n",
        "        0xd0, 0xef, 0xaa, 0xfb, 0x43, 0x4d, 0x33, 0x85, 0x45, 0xf9, 0x02, 0x7f, 0x50, 0x3c, 0x9f, 0xa8,\n",
        "        0x51, 0xa3, 0x40, 0x8f, 0x92, 0x9d, 0x38, 0xf5, 0xbc, 0xb6, 0xda, 0x21, 0x10, 0xff, 0xf3, 0xd2,\n",
        "        0xcd, 0x0c, 0x13, 0xec, 0x5f, 0x97, 0x44, 0x17, 0xc4, 0xa7, 0x7e, 0x3d, 0x64, 0x5d, 0x19, 0x73,\n",
        "        0x60, 0x81, 0x4f, 0xdc, 0x22, 0x2a, 0x90, 0x88, 0x46, 0xee, 0xb8, 0x14, 0xde, 0x5e, 0x0b, 0xdb,\n",
        "        0xe0, 0x32, 0x3a, 0x0a, 0x49, 0x06, 0x24, 0x5c, 0xc2, 0xd3, 0xac, 0x62, 0x91, 0x95, 0xe4, 0x79,\n",
        "        0xe7, 0xc8, 0x37, 0x6d, 0x8d, 0xd5, 0x4e, 0xa9, 0x6c, 0x56, 0xf4, 0xea, 0x65, 0x7a, 0xae, 0x08,\n",
        "        0xba, 0x78, 0x25, 0x2e, 0x1c, 0xa6, 0xb4, 0xc6, 0xe8, 0xdd, 0x74, 0x1f, 0x4b, 0xbd, 0x8b, 0x8a,\n",
        "        0x70, 0x3e, 0xb5, 0x66, 0x48, 0x03, 0xf6, 0x0e, 0x61, 0x35, 0x57, 0xb9, 0x86, 0xc1, 0x1d, 0x9e,\n",
        "        0xe1, 0xf8, 0x98, 0x11, 0x69, 0xd9, 0x8e, 0x94, 0x9b, 0x1e, 0x87, 0xe9, 0xce, 0x55, 0x28, 0xdf,\n",
        "        0x8c, 0xa1, 0x89, 0x0d, 0xbf, 0xe6, 0x42, 0x68, 0x41, 0x99, 0x2d, 0x0f, 0xb0, 0x54, 0xbb, 0x16\n",
        "], dtype=np.uint8).reshape(16, 16)\n",
        "\n",
        "mixcolmat =np.array([\n",
        "    [0x02, 0x03, 0x01, 0x01],\n",
        "    [0x01, 0x02, 0x03, 0x01],\n",
        "    [0x01, 0x01, 0x02, 0x03],\n",
        "    [0x03, 0x01, 0x01, 0x02]\n",
        "], dtype=np.uint8)\n",
        "\n",
        "rcon = np.array([0x01, 0x02, 0x04, 0x08, 0x10, 0x20, 0x40, 0x80, 0x1b, 0x36], dtype=np.uint8)"
      ]
    },
    {
      "cell_type": "code",
      "execution_count": 84,
      "metadata": {
        "colab": {
          "base_uri": "https://localhost:8080/"
        },
        "id": "bmRup2PeX9dV",
        "outputId": "496a9837-e812-4b76-dec8-636f698d1c5c"
      },
      "outputs": [
        {
          "name": "stdout",
          "output_type": "stream",
          "text": [
            "RESULTAT DEL PRIMER ADDROUNDKEY:\n",
            " [['45' '7f' '4c' '5a']\n",
            " ['2b' '75' '2b' '18']\n",
            " ['fa' 'eb' 'c3' 'd8']\n",
            " ['a3' 'b3' '8b' 'df']]\n"
          ]
        }
      ],
      "source": [
        "import numpy as np\n",
        "\n",
        "def addroundkey(m, k):\n",
        "    res = np.bitwise_xor(m, k) # XOR entre matrius\n",
        "    return res\n",
        "\n",
        "mk = addroundkey(m_int, k_int)\n",
        "print(\"RESULTAT DEL PRIMER ADDROUNDKEY:\\n\", np.vectorize(tohex)(mk))"
      ]
    },
    {
      "cell_type": "code",
      "execution_count": 85,
      "metadata": {
        "colab": {
          "base_uri": "https://localhost:8080/"
        },
        "id": "JcHhUnBqX9dW",
        "outputId": "fd728e06-b901-4f55-f390-71e89a673217"
      },
      "outputs": [
        {
          "name": "stdout",
          "output_type": "stream",
          "text": [
            "RESULTAT DEL PRIMER SUBBYTES:\n",
            " [['6e' 'd2' '29' 'be']\n",
            " ['f1' '9d' 'f1' 'ad']\n",
            " ['2d' 'e9' '2e' '61']\n",
            " ['0a' '6d' '3d' '9e']]\n"
          ]
        }
      ],
      "source": [
        "def map_sbox(el):\n",
        "    d1 = int(el[0], 16) # Convertir a decimal\n",
        "    d2 = int(el[1], 16) # Convertir a decimal\n",
        "    return sbox[d1, d2] # Retornar valor de la sbox\n",
        "\n",
        "def bytesub(mk):\n",
        "    res = np.zeros((4, 4))\n",
        "    mk_hex = np.vectorize(tohex)(mk) # Convertir a hexadecimal\n",
        "    map = np.vectorize(map_sbox)(mk_hex) # Aplicar la sbox\n",
        "    return map\n",
        "\n",
        "bs = bytesub(mk)\n",
        "print(\"RESULTAT DEL PRIMER SUBBYTES:\\n\", np.vectorize(tohex)(bs))"
      ]
    },
    {
      "cell_type": "code",
      "execution_count": 86,
      "metadata": {
        "colab": {
          "base_uri": "https://localhost:8080/"
        },
        "id": "ugNxFH3uX9dW",
        "outputId": "6c7669a4-4318-459a-c1aa-89457b0695ef"
      },
      "outputs": [
        {
          "name": "stdout",
          "output_type": "stream",
          "text": [
            "RESULTAT DEL PRIMER SHIFTROWS:\n",
            " [['6e' 'd2' '29' 'be']\n",
            " ['9d' 'f1' 'ad' 'f1']\n",
            " ['2e' '61' '2d' 'e9']\n",
            " ['9e' '0a' '6d' '3d']]\n"
          ]
        }
      ],
      "source": [
        "def shiftrows(bs):\n",
        "    res = np.zeros((4, 4))\n",
        "    for i in range(4):\n",
        "        res[i] = np.roll(bs[i], -i) # Rotar les files\n",
        "    return res.astype(int) # Retornar enter\n",
        "\n",
        "sr = shiftrows(bs)\n",
        "print(\"RESULTAT DEL PRIMER SHIFTROWS:\\n\", np.vectorize(tohex)(sr))"
      ]
    },
    {
      "cell_type": "code",
      "execution_count": 87,
      "metadata": {
        "colab": {
          "base_uri": "https://localhost:8080/"
        },
        "id": "k15mQyRZX9dW",
        "outputId": "c3940da3-d11a-4ba3-8ca7-3f1b0bcdd60c"
      },
      "outputs": [
        {
          "name": "stdout",
          "output_type": "stream",
          "text": [
            "7\n",
            "00000111\n"
          ]
        }
      ],
      "source": [
        "def mult1(el):\n",
        "    return el\n",
        "\n",
        "print(mult1(7))\n",
        "print(format(mult1(7), \"08b\"))"
      ]
    },
    {
      "cell_type": "code",
      "execution_count": 88,
      "metadata": {
        "colab": {
          "base_uri": "https://localhost:8080/"
        },
        "id": "ku7uUx9_X9dW",
        "outputId": "67bb257e-db1b-48d7-d6bd-b947ee009c87"
      },
      "outputs": [
        {
          "name": "stdout",
          "output_type": "stream",
          "text": [
            "14\n",
            "00001110\n"
          ]
        }
      ],
      "source": [
        "def mult2(el):\n",
        "    bin = format(el, \"08b\") # Convertir a binari\n",
        "    res = bin[1:] + \"0\" # Rotar\n",
        "\n",
        "    if bin[0] == \"1\": # Si el primer bit és 1\n",
        "        return (int(res, 2) ^ pol) % 256 # XOR amb polinomi\n",
        "\n",
        "    return int(res, 2) # Retornar enter\n",
        "\n",
        "print(mult2(7))\n",
        "print(format(mult2(7), \"08b\"))"
      ]
    },
    {
      "cell_type": "code",
      "execution_count": 89,
      "metadata": {
        "colab": {
          "base_uri": "https://localhost:8080/"
        },
        "id": "C9q3BHSEX9dW",
        "outputId": "d63dab01-0bf7-4ef5-b580-a18aadf14373"
      },
      "outputs": [
        {
          "name": "stdout",
          "output_type": "stream",
          "text": [
            "9\n",
            "00001001\n"
          ]
        }
      ],
      "source": [
        "def mult3(el):\n",
        "    m2 = mult2(el) # Multiplicar per 2\n",
        "    return m2 ^ el # XOR amb el resultat de la multiplicació per 2\n",
        "\n",
        "print(mult3(7))\n",
        "print(format(mult3(7), \"08b\"))"
      ]
    },
    {
      "cell_type": "code",
      "execution_count": 90,
      "metadata": {
        "colab": {
          "base_uri": "https://localhost:8080/"
        },
        "id": "koHN8QcLX9dW",
        "outputId": "2c680ae1-deb6-454a-fe1f-89358ad2fbc9"
      },
      "outputs": [
        {
          "name": "stdout",
          "output_type": "stream",
          "text": [
            "RESULTAT DEL PRIMER MIXCOLUMNS:\n",
            " [['d0' 'dc' 'fe' 'bb']\n",
            " ['a3' '82' '72' '5a']\n",
            " ['16' 'ff' '69' 'c1']\n",
            " ['26' 'e9' '21' 'bb']]\n"
          ]
        }
      ],
      "source": [
        "def mixcolumns(sr):\n",
        "    res = np.zeros((4,4))\n",
        "    for i in range(4): # Per a cada columna\n",
        "        for j in range(4): # Per a cada fila\n",
        "            sum = 0 # Inicialitzar suma\n",
        "            for k in range(4): # Per a cada element de la fila\n",
        "                if mixcolmat[i][k] == 1:\n",
        "                    sum ^= mult1(sr[k][j]) # Multiplicar per 1\n",
        "                elif mixcolmat[i][k] == 2:\n",
        "                    sum ^= mult2(sr[k][j]) # Multiplicar per 2\n",
        "                elif mixcolmat[i][k] == 3:\n",
        "                    sum ^= mult3(sr[k][j]) # Multiplicar per 3\n",
        "            res[i][j] = sum # Guardar suma\n",
        "    return res.astype(int) # Retornar enter\n",
        "\n",
        "print(\"RESULTAT DEL PRIMER MIXCOLUMNS:\\n\", np.vectorize(tohex)(mixcolumns(sr)))"
      ]
    },
    {
      "cell_type": "code",
      "execution_count": 91,
      "metadata": {
        "id": "Zp12vwgxX9dW"
      },
      "outputs": [],
      "source": [
        "def key_schedule(k, num_iteracions):\n",
        "    num_iteracions += 1 # Incrementar el nombre d'iteracions ja que la primera és la clau inicial\n",
        "\n",
        "    if k.shape != (4, 4): # Comprovar mida (4,4)\n",
        "        raise ValueError(\"k ha de ser una matriu de 4x4!\")\n",
        "    \n",
        "    w = np.zeros((num_iteracions, 4, 4), dtype=np.uint8) # Crear matriu de zeros de les 10 claus\n",
        "    w[0, :, :] = k # Assignar la clau inicial a la primera posició\n",
        "    \n",
        "    for n in range(1, num_iteracions):\n",
        "        temp = w[n-1, :, 3].copy() # Copiar la columna 3\n",
        "        temp = np.roll(temp, -1) # Rotar\n",
        "        temp = bytesub(temp) # Aplicar la sbox\n",
        "        temp[0] ^= rcon[n-1] # XOR amb la rcon\n",
        "        w[n, :, 0] = np.bitwise_xor(temp, w[n-1, :, 0]) # XOR amb la primera columna de la clau anterior\n",
        "        for i in range(1, 4):\n",
        "            w[n, :, i] = np.bitwise_xor(w[n, :, i-1], w[n-1, :, i]) # XOR amb la columna anterior\n",
        "    return w"
      ]
    },
    {
      "cell_type": "code",
      "execution_count": 92,
      "metadata": {
        "colab": {
          "base_uri": "https://localhost:8080/"
        },
        "id": "z55kqth8X9dW",
        "outputId": "bed1b7bd-15b9-4b19-a687-bd49712cc11d"
      },
      "outputs": [
        {
          "name": "stdout",
          "output_type": "stream",
          "text": [
            "RESULTAT DEL KEYSCHEDULE:\n",
            " [[['00' '11' '22' '33']\n",
            "  ['44' '55' '66' '77']\n",
            "  ['88' '99' 'aa' 'bb']\n",
            "  ['cc' 'dd' 'ee' 'ff']]\n",
            "\n",
            " [['f4' 'e5' 'c7' 'f4']\n",
            "  ['ae' 'fb' '9d' 'ea']\n",
            "  ['9e' '07' 'ad' '16']\n",
            "  ['0f' 'd2' '3c' 'c3']]\n",
            "\n",
            " [['71' '94' '53' 'a7']\n",
            "  ['e9' '12' '8f' '65']\n",
            "  ['b0' 'b7' '1a' '0c']\n",
            "  ['b0' '62' '5e' '9d']]\n",
            "\n",
            " [['38' 'ac' 'ff' '58']\n",
            "  ['17' '05' '8a' 'ef']\n",
            "  ['ee' '59' '43' '4f']\n",
            "  ['ec' '8e' 'd0' '4d']]\n",
            "\n",
            " [['ef' '43' 'bc' 'e4']\n",
            "  ['93' '96' '1c' 'f3']\n",
            "  ['0d' '54' '17' '58']\n",
            "  ['86' '08' 'd8' '95']]\n",
            "\n",
            " [['f2' 'b1' '0d' 'e9']\n",
            "  ['f9' '6f' '73' '80']\n",
            "  ['27' '73' '64' '3c']\n",
            "  ['ef' 'e7' '3f' 'aa']]\n",
            "\n",
            " [['1f' 'ae' 'a3' '4a']\n",
            "  ['12' '7d' '0e' '8e']\n",
            "  ['8b' 'f8' '9c' 'a0']\n",
            "  ['f1' '16' '29' '83']]\n",
            "\n",
            " [['46' 'e8' '4b' '01']\n",
            "  ['f2' '8f' '81' '0f']\n",
            "  ['67' '9f' '03' 'a3']\n",
            "  ['27' '31' '18' '9b']]\n",
            "\n",
            " [['b0' '58' '13' '12']\n",
            "  ['f8' '77' 'f6' 'f9']\n",
            "  ['73' 'ec' 'ef' '4c']\n",
            "  ['5b' '6a' '72' 'e9']]\n",
            "\n",
            " [['32' '6a' '79' '6b']\n",
            "  ['d1' 'a6' '50' 'a9']\n",
            "  ['6d' '81' '6e' '22']\n",
            "  ['92' 'f8' '8a' '63']]\n",
            "\n",
            " [['d7' 'bd' 'c4' 'af']\n",
            "  ['42' 'e4' 'b4' '1d']\n",
            "  ['96' '17' '79' '5b']\n",
            "  ['ed' '15' '9f' 'fc']]]\n"
          ]
        }
      ],
      "source": [
        "print(\"RESULTAT DEL KEYSCHEDULE:\\n\", np.vectorize(tohex)(key_schedule(k_int,10)))"
      ]
    },
    {
      "cell_type": "code",
      "execution_count": 93,
      "metadata": {
        "colab": {
          "base_uri": "https://localhost:8080/"
        },
        "id": "Hg8dbILWX9dX",
        "outputId": "908a9bd1-fb0e-498d-b075-07ea69eece89"
      },
      "outputs": [
        {
          "name": "stdout",
          "output_type": "stream",
          "text": [
            "RESULTAT FINAL DE L'ALGORISME:\n",
            " [['e0' '9d' '57' '8a']\n",
            " ['9a' '31' '4d' '26']\n",
            " ['eb' '2d' 'bf' '33']\n",
            " ['c0' '78' 'd9' '4f']]\n"
          ]
        }
      ],
      "source": [
        "def aes(m, k):\n",
        "    ks = key_schedule(k, 10) # Generar les claus\n",
        "    for i in range(9): \n",
        "        k = ks[i, :, :] # Assignar la clau\n",
        "        mk = addroundkey(m, k)\n",
        "        bs = bytesub(mk) \n",
        "        sr = shiftrows(bs)\n",
        "        m = mixcolumns(sr)\n",
        "\n",
        "    k = ks[i + 1, :, :] # Assignar la clau\n",
        "    mk = addroundkey(m, k)\n",
        "    bs = bytesub(mk)\n",
        "    sr = shiftrows(bs)\n",
        "\n",
        "    # Omitim mixcolumns a la última iteració\n",
        "\n",
        "    k = ks[i + 2, :, :] # Assignar la clau\n",
        "    res = addroundkey(sr, k)\n",
        "\n",
        "    return res\n",
        "\n",
        "res = np.vectorize(tohex)(aes(m_int, k_int))\n",
        "print(\"RESULTAT FINAL DE L'ALGORISME:\\n\", res)"
      ]
    },
    {
      "cell_type": "code",
      "execution_count": 94,
      "metadata": {
        "colab": {
          "base_uri": "https://localhost:8080/"
        },
        "id": "Xk0iQaTTX9dX",
        "outputId": "6003cfae-1aa1-4008-ead3-5bfbd11115e3"
      },
      "outputs": [
        {
          "name": "stdout",
          "output_type": "stream",
          "text": [
            "Misstage encriptat:\n",
            "\n",
            "[['e0' '9d' '57' '8a']\n",
            " ['9a' '31' '4d' '26']\n",
            " ['eb' '2d' 'bf' '33']\n",
            " ['c0' '78' 'd9' '4f']]\n",
            "\n",
            "Comparació del nostre codi amb el de la llibreria Crypto: True \n",
            "\n",
            "Missatge desxifrat:\n",
            "\n",
            "[['45' '6e' '6e' '69']\n",
            " ['6f' '20' '4d' '6f']\n",
            " ['72' '72' '69' '63']\n",
            " ['6f' '6e' '65' '20']]\n",
            "\n",
            "Missatge desencriptat: Ennio Morricone \n"
          ]
        }
      ],
      "source": [
        "from Crypto.Cipher import AES\n",
        "from Crypto.Random import get_random_bytes\n",
        "import numpy as np\n",
        "\n",
        "data = m_int.T.tobytes() # Convertir a bytes\n",
        "key = k_int.T.tobytes() \n",
        "\n",
        "cipher = AES.new(key, AES.MODE_ECB) # Crear objecte AES\n",
        "ciphertext = cipher.encrypt(data) # Encriptar\n",
        "\n",
        "encriptat = np.frombuffer(ciphertext, dtype=np.uint8).reshape((4, 4)).T # Convertir a matriu\n",
        "enc = np.vectorize(tohex)(encriptat) # Convertir a hexadecimal\n",
        "print(\"Misstage encriptat:\\n\")\n",
        "print(enc)\n",
        "print(\"\\nComparació del nostre codi amb el de la llibreria Crypto:\", np.all(res == enc), \"\\n\")\n",
        "\n",
        "cipher = AES.new(key, AES.MODE_ECB) # Crear objecte AES\n",
        "deciphertext = cipher.decrypt(ciphertext) # Desencriptar\n",
        "\n",
        "desencriptat = np.frombuffer(deciphertext, dtype=np.uint8).reshape((4, 4)).T # Convertir a matriu\n",
        "desc = np.vectorize(tohex)(desencriptat) # Convertir a hexadecimal\n",
        "print(\"Missatge desxifrat:\\n\")\n",
        "print(desc)\n",
        "print(\"\\nMissatge desencriptat:\", int2miss(desencriptat))\n"
      ]
    }
  ],
  "metadata": {
    "colab": {
      "provenance": []
    },
    "kernelspec": {
      "display_name": "base",
      "language": "python",
      "name": "python3"
    },
    "language_info": {
      "codemirror_mode": {
        "name": "ipython",
        "version": 3
      },
      "file_extension": ".py",
      "mimetype": "text/x-python",
      "name": "python",
      "nbconvert_exporter": "python",
      "pygments_lexer": "ipython3",
      "version": "3.8.15"
    },
    "vscode": {
      "interpreter": {
        "hash": "40d3a090f54c6569ab1632332b64b2c03c39dcf918b08424e98f38b5ae0af88f"
      }
    }
  },
  "nbformat": 4,
  "nbformat_minor": 0
}
